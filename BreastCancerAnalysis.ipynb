{
  "nbformat": 4,
  "nbformat_minor": 0,
  "metadata": {
    "colab": {
      "name": "BreastCancerAnalysis.ipynb",
      "provenance": [],
      "collapsed_sections": [],
      "authorship_tag": "ABX9TyPo+Qy0MhyfhaUEk4fMACrW",
      "include_colab_link": true
    },
    "kernelspec": {
      "name": "python3",
      "display_name": "Python 3"
    }
  },
  "cells": [
    {
      "cell_type": "markdown",
      "metadata": {
        "id": "view-in-github",
        "colab_type": "text"
      },
      "source": [
        "<a href=\"https://colab.research.google.com/github/Svhugani/DarkDust/blob/main/BreastCancerAnalysis.ipynb\" target=\"_parent\"><img src=\"https://colab.research.google.com/assets/colab-badge.svg\" alt=\"Open In Colab\"/></a>"
      ]
    },
    {
      "cell_type": "code",
      "metadata": {
        "id": "wqp2CCirDtbs"
      },
      "source": [
        "import tensorflow as tf\r\n",
        "import numpy as np\r\n",
        "from sklearn.datasets import load_breast_cancer\r\n",
        "from sklearn.model_selection import train_test_split\r\n",
        "from sklearn.preprocessing import StandardScaler, RobustScaler\r\n",
        "from sklearn.cluster import KMeans\r\n",
        "from matplotlib import pyplot as plt\r\n",
        "plt.style.use('dark_background')"
      ],
      "execution_count": 1,
      "outputs": []
    },
    {
      "cell_type": "code",
      "metadata": {
        "id": "EQ7GmQWnFh59"
      },
      "source": [
        "breast_cancer = load_breast_cancer()"
      ],
      "execution_count": 2,
      "outputs": []
    },
    {
      "cell_type": "code",
      "metadata": {
        "colab": {
          "base_uri": "https://localhost:8080/"
        },
        "id": "ow_GxFCWF8Md",
        "outputId": "6dcfeb83-38ae-43b7-8a74-ebea74bf4e93"
      },
      "source": [
        "breast_cancer.keys()"
      ],
      "execution_count": 3,
      "outputs": [
        {
          "output_type": "execute_result",
          "data": {
            "text/plain": [
              "dict_keys(['data', 'target', 'target_names', 'DESCR', 'feature_names', 'filename'])"
            ]
          },
          "metadata": {
            "tags": []
          },
          "execution_count": 3
        }
      ]
    },
    {
      "cell_type": "code",
      "metadata": {
        "colab": {
          "base_uri": "https://localhost:8080/"
        },
        "id": "aVg2T6NwGHx1",
        "outputId": "be37c60e-67fe-4d50-975b-e5bf6eb410cc"
      },
      "source": [
        "breast_cancer.data.shape"
      ],
      "execution_count": 4,
      "outputs": [
        {
          "output_type": "execute_result",
          "data": {
            "text/plain": [
              "(569, 30)"
            ]
          },
          "metadata": {
            "tags": []
          },
          "execution_count": 4
        }
      ]
    },
    {
      "cell_type": "code",
      "metadata": {
        "colab": {
          "base_uri": "https://localhost:8080/"
        },
        "id": "oHu6r7o8Sg2H",
        "outputId": "39187e9b-2c97-46bf-d8b1-153aaec856ed"
      },
      "source": [
        "breast_cancer.target_names"
      ],
      "execution_count": 5,
      "outputs": [
        {
          "output_type": "execute_result",
          "data": {
            "text/plain": [
              "array(['malignant', 'benign'], dtype='<U9')"
            ]
          },
          "metadata": {
            "tags": []
          },
          "execution_count": 5
        }
      ]
    },
    {
      "cell_type": "code",
      "metadata": {
        "colab": {
          "base_uri": "https://localhost:8080/",
          "height": 91
        },
        "id": "_X0SEzA7GMQN",
        "outputId": "5d0384fb-b828-4cf4-dcb9-dac2488c9972"
      },
      "source": [
        "breast_cancer.DESCR"
      ],
      "execution_count": 6,
      "outputs": [
        {
          "output_type": "execute_result",
          "data": {
            "application/vnd.google.colaboratory.intrinsic+json": {
              "type": "string"
            },
            "text/plain": [
              "'.. _breast_cancer_dataset:\\n\\nBreast cancer wisconsin (diagnostic) dataset\\n--------------------------------------------\\n\\n**Data Set Characteristics:**\\n\\n    :Number of Instances: 569\\n\\n    :Number of Attributes: 30 numeric, predictive attributes and the class\\n\\n    :Attribute Information:\\n        - radius (mean of distances from center to points on the perimeter)\\n        - texture (standard deviation of gray-scale values)\\n        - perimeter\\n        - area\\n        - smoothness (local variation in radius lengths)\\n        - compactness (perimeter^2 / area - 1.0)\\n        - concavity (severity of concave portions of the contour)\\n        - concave points (number of concave portions of the contour)\\n        - symmetry \\n        - fractal dimension (\"coastline approximation\" - 1)\\n\\n        The mean, standard error, and \"worst\" or largest (mean of the three\\n        largest values) of these features were computed for each image,\\n        resulting in 30 features.  For instance, field 3 is Mean Radius, field\\n        13 is Radius SE, field 23 is Worst Radius.\\n\\n        - class:\\n                - WDBC-Malignant\\n                - WDBC-Benign\\n\\n    :Summary Statistics:\\n\\n    ===================================== ====== ======\\n                                           Min    Max\\n    ===================================== ====== ======\\n    radius (mean):                        6.981  28.11\\n    texture (mean):                       9.71   39.28\\n    perimeter (mean):                     43.79  188.5\\n    area (mean):                          143.5  2501.0\\n    smoothness (mean):                    0.053  0.163\\n    compactness (mean):                   0.019  0.345\\n    concavity (mean):                     0.0    0.427\\n    concave points (mean):                0.0    0.201\\n    symmetry (mean):                      0.106  0.304\\n    fractal dimension (mean):             0.05   0.097\\n    radius (standard error):              0.112  2.873\\n    texture (standard error):             0.36   4.885\\n    perimeter (standard error):           0.757  21.98\\n    area (standard error):                6.802  542.2\\n    smoothness (standard error):          0.002  0.031\\n    compactness (standard error):         0.002  0.135\\n    concavity (standard error):           0.0    0.396\\n    concave points (standard error):      0.0    0.053\\n    symmetry (standard error):            0.008  0.079\\n    fractal dimension (standard error):   0.001  0.03\\n    radius (worst):                       7.93   36.04\\n    texture (worst):                      12.02  49.54\\n    perimeter (worst):                    50.41  251.2\\n    area (worst):                         185.2  4254.0\\n    smoothness (worst):                   0.071  0.223\\n    compactness (worst):                  0.027  1.058\\n    concavity (worst):                    0.0    1.252\\n    concave points (worst):               0.0    0.291\\n    symmetry (worst):                     0.156  0.664\\n    fractal dimension (worst):            0.055  0.208\\n    ===================================== ====== ======\\n\\n    :Missing Attribute Values: None\\n\\n    :Class Distribution: 212 - Malignant, 357 - Benign\\n\\n    :Creator:  Dr. William H. Wolberg, W. Nick Street, Olvi L. Mangasarian\\n\\n    :Donor: Nick Street\\n\\n    :Date: November, 1995\\n\\nThis is a copy of UCI ML Breast Cancer Wisconsin (Diagnostic) datasets.\\nhttps://goo.gl/U2Uwz2\\n\\nFeatures are computed from a digitized image of a fine needle\\naspirate (FNA) of a breast mass.  They describe\\ncharacteristics of the cell nuclei present in the image.\\n\\nSeparating plane described above was obtained using\\nMultisurface Method-Tree (MSM-T) [K. P. Bennett, \"Decision Tree\\nConstruction Via Linear Programming.\" Proceedings of the 4th\\nMidwest Artificial Intelligence and Cognitive Science Society,\\npp. 97-101, 1992], a classification method which uses linear\\nprogramming to construct a decision tree.  Relevant features\\nwere selected using an exhaustive search in the space of 1-4\\nfeatures and 1-3 separating planes.\\n\\nThe actual linear program used to obtain the separating plane\\nin the 3-dimensional space is that described in:\\n[K. P. Bennett and O. L. Mangasarian: \"Robust Linear\\nProgramming Discrimination of Two Linearly Inseparable Sets\",\\nOptimization Methods and Software 1, 1992, 23-34].\\n\\nThis database is also available through the UW CS ftp server:\\n\\nftp ftp.cs.wisc.edu\\ncd math-prog/cpo-dataset/machine-learn/WDBC/\\n\\n.. topic:: References\\n\\n   - W.N. Street, W.H. Wolberg and O.L. Mangasarian. Nuclear feature extraction \\n     for breast tumor diagnosis. IS&T/SPIE 1993 International Symposium on \\n     Electronic Imaging: Science and Technology, volume 1905, pages 861-870,\\n     San Jose, CA, 1993.\\n   - O.L. Mangasarian, W.N. Street and W.H. Wolberg. Breast cancer diagnosis and \\n     prognosis via linear programming. Operations Research, 43(4), pages 570-577, \\n     July-August 1995.\\n   - W.H. Wolberg, W.N. Street, and O.L. Mangasarian. Machine learning techniques\\n     to diagnose breast cancer from fine-needle aspirates. Cancer Letters 77 (1994) \\n     163-171.'"
            ]
          },
          "metadata": {
            "tags": []
          },
          "execution_count": 6
        }
      ]
    },
    {
      "cell_type": "code",
      "metadata": {
        "id": "y61uBmD7Iqac"
      },
      "source": [
        "data = breast_cancer.data\r\n",
        "target = breast_cancer.target\r\n",
        "x_train, x_test, y_train, y_test = train_test_split(data, target, test_size = 0.2)"
      ],
      "execution_count": 7,
      "outputs": []
    },
    {
      "cell_type": "code",
      "metadata": {
        "colab": {
          "base_uri": "https://localhost:8080/",
          "height": 320
        },
        "id": "L1dup5jIGuXt",
        "outputId": "4e709d1d-0982-4893-9932-85f24e9ba74a"
      },
      "source": [
        "# data before preprocessing\r\n",
        "\r\n",
        "data_features_means = [x_train[:, i].mean() for i in range(x_train.shape[1])]\r\n",
        "data_features_std = [x_train[:, i].std() for i in range(x_train.shape[1])]\r\n",
        "\r\n",
        "plt.subplots(figsize = (10,5))\r\n",
        "plt.plot(data_features_means, label = 'means')\r\n",
        "plt.plot(data_features_std, label = 'standard derivs')\r\n",
        "plt.legend()\r\n",
        "plt.grid()"
      ],
      "execution_count": 8,
      "outputs": [
        {
          "output_type": "display_data",
          "data": {
            "image/png": "[encoded data removed]",
            "text/plain": [
              "<Figure size 720x360 with 1 Axes>"
            ]
          },
          "metadata": {
            "tags": [],
            "needs_background": "dark"
          }
        }
      ]
    },
    {
      "cell_type": "code",
      "metadata": {
        "colab": {
          "base_uri": "https://localhost:8080/",
          "height": 320
        },
        "id": "koBgR4t5IDDF",
        "outputId": "9a8439a6-9428-4222-ea15-577983273d64"
      },
      "source": [
        "# data after processing\r\n",
        "\r\n",
        "#scaler = RobustScaler(quantile_range=(25, 75))\r\n",
        "scaler = StandardScaler()\r\n",
        "x_train = scaler.fit_transform(x_train)\r\n",
        "x_test = scaler.fit_transform(x_test)\r\n",
        "\r\n",
        "data_features_means = [x_train[:, i].mean() for i in range(x_train.shape[1])]\r\n",
        "data_features_std = [x_train[:, i].std() for i in range(x_train.shape[1])]\r\n",
        "\r\n",
        "plt.subplots(figsize = (10,5))\r\n",
        "plt.plot(data_features_means, label = 'means')\r\n",
        "plt.plot(data_features_std, label = 'standard derivs')\r\n",
        "plt.legend()\r\n",
        "plt.grid()"
      ],
      "execution_count": 9,
      "outputs": [
        {
          "output_type": "display_data",
          "data": {
            "image/png": "[encoded data removed]",
            "text/plain": [
              "<Figure size 720x360 with 1 Axes>"
            ]
          },
          "metadata": {
            "tags": [],
            "needs_background": "dark"
          }
        }
      ]
    },
    {
      "cell_type": "code",
      "metadata": {
        "colab": {
          "base_uri": "https://localhost:8080/",
          "height": 320
        },
        "id": "wrYI_VntN2hz",
        "outputId": "432f0fa6-87f0-4160-9c0e-c89f2865f83c"
      },
      "source": [
        "# K-means clustering form many possible scenarios\r\n",
        "cluster_numbers = range(1, 16)\r\n",
        "k_means_classificators = [KMeans(n_clusters = i, max_iter = 100).fit(x_test) for i in cluster_numbers]\r\n",
        "k_means_scores = [k_means_classificators[i].score(x_test) for i in range(len(k_means_classificators))]\r\n",
        "\r\n",
        "plt.subplots(figsize = (10,5))\r\n",
        "plt.plot(k_means_scores, label = 'k means score')\r\n",
        "plt.xticks(cluster_numbers)\r\n",
        "plt.legend()\r\n",
        "plt.grid()"
      ],
      "execution_count": 10,
      "outputs": [
        {
          "output_type": "display_data",
          "data": {
            "image/png": "[encoded data removed]",
            "text/plain": [
              "<Figure size 720x360 with 1 Axes>"
            ]
          },
          "metadata": {
            "tags": [],
            "needs_background": "dark"
          }
        }
      ]
    },
    {
      "cell_type": "code",
      "metadata": {
        "colab": {
          "base_uri": "https://localhost:8080/"
        },
        "id": "S5L_e6K_SN4g",
        "outputId": "c986c9ca-c117-4b0a-ea69-e4cdb182a16d"
      },
      "source": [
        "# 2-clusterring ('malignant', 'benign')\r\n",
        "\r\n",
        "k_means_binary = k_means_classificators[1]\r\n",
        "k_means_binary.inertia_\r\n",
        "k_means_binary.score(x_test)"
      ],
      "execution_count": 11,
      "outputs": [
        {
          "output_type": "execute_result",
          "data": {
            "text/plain": [
              "-2406.623891506061"
            ]
          },
          "metadata": {
            "tags": []
          },
          "execution_count": 11
        }
      ]
    },
    {
      "cell_type": "code",
      "metadata": {
        "colab": {
          "base_uri": "https://localhost:8080/"
        },
        "id": "02oJvxUYVbJV",
        "outputId": "d719e232-a989-497a-efe7-627724ce6eac"
      },
      "source": [
        "k_means_prediction = k_means_binary.predict(x_test)\r\n",
        "k_means_prediction"
      ],
      "execution_count": 12,
      "outputs": [
        {
          "output_type": "execute_result",
          "data": {
            "text/plain": [
              "array([0, 1, 0, 0, 0, 0, 1, 1, 0, 1, 1, 1, 1, 0, 1, 0, 1, 0, 0, 1, 1, 1,\n",
              "       1, 0, 0, 0, 0, 1, 0, 0, 1, 1, 1, 0, 1, 1, 1, 1, 1, 1, 1, 1, 1, 1,\n",
              "       1, 1, 0, 1, 1, 0, 0, 1, 1, 0, 1, 1, 1, 0, 1, 1, 1, 1, 0, 1, 0, 1,\n",
              "       1, 1, 1, 1, 0, 1, 1, 0, 1, 1, 0, 1, 1, 1, 1, 0, 0, 1, 1, 0, 0, 1,\n",
              "       1, 0, 1, 0, 1, 1, 0, 1, 1, 0, 1, 0, 1, 0, 1, 1, 0, 1, 1, 1, 1, 1,\n",
              "       0, 1, 0, 1], dtype=int32)"
            ]
          },
          "metadata": {
            "tags": []
          },
          "execution_count": 12
        }
      ]
    },
    {
      "cell_type": "code",
      "metadata": {
        "id": "l8Z4Zylbi5_v"
      },
      "source": [
        "#k_means_fitting = k_means_binary.predict(x_train)\r\n",
        "#misclassified_idx = np.where(k_means_fitting == y_train)[0]\r\n",
        "#k_means_accuracy = len(misclassified_idx)/ float(len(y_train))\r\n",
        "#print(\"k-means validation accuracy for k=2 equals: \" + str(np.round(k_means_accuracy * 100, 2)) + \"%\")"
      ],
      "execution_count": 13,
      "outputs": []
    },
    {
      "cell_type": "markdown",
      "metadata": {
        "id": "nJHi23EUWRVP"
      },
      "source": [
        ""
      ]
    },
    {
      "cell_type": "code",
      "metadata": {
        "colab": {
          "base_uri": "https://localhost:8080/"
        },
        "id": "3wxaRwo1V_Md",
        "outputId": "25a4f1ed-0b7e-4f07-c6ad-e3097ea3d05e"
      },
      "source": [
        "# K- means clustering for k = 2 ( only that makes sense since we want binary classification)\r\n",
        "misclassified_idx = np.where(k_means_prediction == y_test)[0]\r\n",
        "k_means_accuracy = len(misclassified_idx)/ float(len(y_test))\r\n",
        "k_means_accuracy = max( k_means_accuracy, 1-k_means_accuracy) # we only cluster, so for example all 1s may be classified as 0s. It is irrelevant\r\n",
        "print(\"k-means validation accuracy for k=2 equals: \" + str(np.round(k_means_accuracy * 100, 2)) + \"%\")"
      ],
      "execution_count": 14,
      "outputs": [
        {
          "output_type": "stream",
          "text": [
            "k-means validation accuracy for k=2 equals: 88.6%\n"
          ],
          "name": "stdout"
        }
      ]
    },
    {
      "cell_type": "markdown",
      "metadata": {
        "id": "0S5r1wf9f4ZT"
      },
      "source": [
        "\r\n",
        "\r\n",
        "---\r\n",
        "\r\n",
        "\r\n",
        "K-means method for 2-categories clustering classifies into 2 groups properly  with accuracy around 85-92% (small dataset). \r\n",
        "Clustering method suggests around 5 significant categories. It could be the for example for the stage of the cancer (?). For RobustScaler which scales a bit differently the resuts, we get accuracy around 2%% higher on average (still may be variance). \r\n",
        "\r\n",
        "\r\n",
        "---\r\n",
        "\r\n"
      ]
    },
    {
      "cell_type": "code",
      "metadata": {
        "colab": {
          "base_uri": "https://localhost:8080/"
        },
        "id": "XC6sOOcihBg4",
        "outputId": "6e7170d8-a018-483a-caac-440f15c54b55"
      },
      "source": [
        "# linear regression classification\r\n",
        "N, D = x_train.shape\r\n",
        "model = tf.keras.models.Sequential()\r\n",
        "model.add(tf.keras.layers.Dense(1,input_shape = (D, ), activation = 'sigmoid'))\r\n",
        "model.compile(optimizer = 'adam', loss = 'binary_crossentropy', metrics = ['accuracy'])\r\n",
        "result = model.fit(x_train, y_train, validation_data = (x_test, y_test), epochs = 100)\r\n"
      ],
      "execution_count": 15,
      "outputs": [
        {
          "output_type": "stream",
          "text": [
            "Epoch 1/100\n",
            "15/15 [==============================] - 1s 33ms/step - loss: 1.0139 - accuracy: 0.4226 - val_loss: 0.8998 - val_accuracy: 0.4649\n",
            "Epoch 2/100\n",
            "15/15 [==============================] - 0s 4ms/step - loss: 0.8624 - accuracy: 0.4595 - val_loss: 0.7927 - val_accuracy: 0.5175\n",
            "Epoch 3/100\n",
            "15/15 [==============================] - 0s 4ms/step - loss: 0.7741 - accuracy: 0.5717 - val_loss: 0.7001 - val_accuracy: 0.5965\n",
            "Epoch 4/100\n",
            "15/15 [==============================] - 0s 4ms/step - loss: 0.6821 - accuracy: 0.5769 - val_loss: 0.6196 - val_accuracy: 0.6754\n",
            "Epoch 5/100\n",
            "15/15 [==============================] - 0s 4ms/step - loss: 0.5851 - accuracy: 0.6856 - val_loss: 0.5535 - val_accuracy: 0.7281\n",
            "Epoch 6/100\n",
            "15/15 [==============================] - 0s 4ms/step - loss: 0.5155 - accuracy: 0.7592 - val_loss: 0.5006 - val_accuracy: 0.7544\n",
            "Epoch 7/100\n",
            "15/15 [==============================] - 0s 4ms/step - loss: 0.4568 - accuracy: 0.8156 - val_loss: 0.4568 - val_accuracy: 0.8246\n",
            "Epoch 8/100\n",
            "15/15 [==============================] - 0s 4ms/step - loss: 0.3949 - accuracy: 0.8596 - val_loss: 0.4213 - val_accuracy: 0.8596\n",
            "Epoch 9/100\n",
            "15/15 [==============================] - 0s 16ms/step - loss: 0.3683 - accuracy: 0.8999 - val_loss: 0.3934 - val_accuracy: 0.8772\n",
            "Epoch 10/100\n",
            "15/15 [==============================] - 0s 4ms/step - loss: 0.3510 - accuracy: 0.8928 - val_loss: 0.3717 - val_accuracy: 0.8860\n",
            "Epoch 11/100\n",
            "15/15 [==============================] - 0s 4ms/step - loss: 0.3265 - accuracy: 0.9020 - val_loss: 0.3527 - val_accuracy: 0.8947\n",
            "Epoch 12/100\n",
            "15/15 [==============================] - 0s 4ms/step - loss: 0.2940 - accuracy: 0.9231 - val_loss: 0.3367 - val_accuracy: 0.8947\n",
            "Epoch 13/100\n",
            "15/15 [==============================] - 0s 4ms/step - loss: 0.2791 - accuracy: 0.9190 - val_loss: 0.3235 - val_accuracy: 0.8947\n",
            "Epoch 14/100\n",
            "15/15 [==============================] - 0s 4ms/step - loss: 0.2843 - accuracy: 0.9244 - val_loss: 0.3117 - val_accuracy: 0.9035\n",
            "Epoch 15/100\n",
            "15/15 [==============================] - 0s 4ms/step - loss: 0.2622 - accuracy: 0.9378 - val_loss: 0.3014 - val_accuracy: 0.9123\n",
            "Epoch 16/100\n",
            "15/15 [==============================] - 0s 4ms/step - loss: 0.2600 - accuracy: 0.9226 - val_loss: 0.2923 - val_accuracy: 0.9211\n",
            "Epoch 17/100\n",
            "15/15 [==============================] - 0s 4ms/step - loss: 0.2347 - accuracy: 0.9442 - val_loss: 0.2844 - val_accuracy: 0.9211\n",
            "Epoch 18/100\n",
            "15/15 [==============================] - 0s 5ms/step - loss: 0.2225 - accuracy: 0.9632 - val_loss: 0.2773 - val_accuracy: 0.9211\n",
            "Epoch 19/100\n",
            "15/15 [==============================] - 0s 4ms/step - loss: 0.2247 - accuracy: 0.9486 - val_loss: 0.2709 - val_accuracy: 0.9211\n",
            "Epoch 20/100\n",
            "15/15 [==============================] - 0s 4ms/step - loss: 0.2388 - accuracy: 0.9271 - val_loss: 0.2651 - val_accuracy: 0.9211\n",
            "Epoch 21/100\n",
            "15/15 [==============================] - 0s 4ms/step - loss: 0.2149 - accuracy: 0.9511 - val_loss: 0.2597 - val_accuracy: 0.9211\n",
            "Epoch 22/100\n",
            "15/15 [==============================] - 0s 4ms/step - loss: 0.2112 - accuracy: 0.9389 - val_loss: 0.2549 - val_accuracy: 0.9211\n",
            "Epoch 23/100\n",
            "15/15 [==============================] - 0s 4ms/step - loss: 0.1787 - accuracy: 0.9590 - val_loss: 0.2504 - val_accuracy: 0.9211\n",
            "Epoch 24/100\n",
            "15/15 [==============================] - 0s 4ms/step - loss: 0.1814 - accuracy: 0.9619 - val_loss: 0.2461 - val_accuracy: 0.9211\n",
            "Epoch 25/100\n",
            "15/15 [==============================] - 0s 4ms/step - loss: 0.1866 - accuracy: 0.9596 - val_loss: 0.2422 - val_accuracy: 0.9123\n",
            "Epoch 26/100\n",
            "15/15 [==============================] - 0s 4ms/step - loss: 0.1809 - accuracy: 0.9643 - val_loss: 0.2386 - val_accuracy: 0.9123\n",
            "Epoch 27/100\n",
            "15/15 [==============================] - 0s 4ms/step - loss: 0.1738 - accuracy: 0.9675 - val_loss: 0.2352 - val_accuracy: 0.9123\n",
            "Epoch 28/100\n",
            "15/15 [==============================] - 0s 4ms/step - loss: 0.1785 - accuracy: 0.9514 - val_loss: 0.2319 - val_accuracy: 0.9211\n",
            "Epoch 29/100\n",
            "15/15 [==============================] - 0s 4ms/step - loss: 0.1674 - accuracy: 0.9669 - val_loss: 0.2289 - val_accuracy: 0.9211\n",
            "Epoch 30/100\n",
            "15/15 [==============================] - 0s 4ms/step - loss: 0.1674 - accuracy: 0.9548 - val_loss: 0.2262 - val_accuracy: 0.9211\n",
            "Epoch 31/100\n",
            "15/15 [==============================] - 0s 4ms/step - loss: 0.1687 - accuracy: 0.9561 - val_loss: 0.2235 - val_accuracy: 0.9211\n",
            "Epoch 32/100\n",
            "15/15 [==============================] - 0s 4ms/step - loss: 0.1553 - accuracy: 0.9689 - val_loss: 0.2207 - val_accuracy: 0.9211\n",
            "Epoch 33/100\n",
            "15/15 [==============================] - 0s 4ms/step - loss: 0.1465 - accuracy: 0.9589 - val_loss: 0.2183 - val_accuracy: 0.9211\n",
            "Epoch 34/100\n",
            "15/15 [==============================] - 0s 4ms/step - loss: 0.1521 - accuracy: 0.9672 - val_loss: 0.2159 - val_accuracy: 0.9123\n",
            "Epoch 35/100\n",
            "15/15 [==============================] - 0s 4ms/step - loss: 0.1616 - accuracy: 0.9580 - val_loss: 0.2137 - val_accuracy: 0.9123\n",
            "Epoch 36/100\n",
            "15/15 [==============================] - 0s 4ms/step - loss: 0.1419 - accuracy: 0.9623 - val_loss: 0.2115 - val_accuracy: 0.9123\n",
            "Epoch 37/100\n",
            "15/15 [==============================] - 0s 4ms/step - loss: 0.1388 - accuracy: 0.9643 - val_loss: 0.2095 - val_accuracy: 0.9123\n",
            "Epoch 38/100\n",
            "15/15 [==============================] - 0s 4ms/step - loss: 0.1362 - accuracy: 0.9584 - val_loss: 0.2076 - val_accuracy: 0.9123\n",
            "Epoch 39/100\n",
            "15/15 [==============================] - 0s 4ms/step - loss: 0.1292 - accuracy: 0.9636 - val_loss: 0.2055 - val_accuracy: 0.9123\n",
            "Epoch 40/100\n",
            "15/15 [==============================] - 0s 5ms/step - loss: 0.1404 - accuracy: 0.9496 - val_loss: 0.2036 - val_accuracy: 0.9123\n",
            "Epoch 41/100\n",
            "15/15 [==============================] - 0s 4ms/step - loss: 0.1427 - accuracy: 0.9568 - val_loss: 0.2015 - val_accuracy: 0.9123\n",
            "Epoch 42/100\n",
            "15/15 [==============================] - 0s 5ms/step - loss: 0.1351 - accuracy: 0.9697 - val_loss: 0.1998 - val_accuracy: 0.9123\n",
            "Epoch 43/100\n",
            "15/15 [==============================] - 0s 4ms/step - loss: 0.1280 - accuracy: 0.9701 - val_loss: 0.1980 - val_accuracy: 0.9123\n",
            "Epoch 44/100\n",
            "15/15 [==============================] - 0s 5ms/step - loss: 0.1412 - accuracy: 0.9518 - val_loss: 0.1964 - val_accuracy: 0.9123\n",
            "Epoch 45/100\n",
            "15/15 [==============================] - 0s 4ms/step - loss: 0.1392 - accuracy: 0.9550 - val_loss: 0.1947 - val_accuracy: 0.9123\n",
            "Epoch 46/100\n",
            "15/15 [==============================] - 0s 4ms/step - loss: 0.1380 - accuracy: 0.9591 - val_loss: 0.1932 - val_accuracy: 0.9123\n",
            "Epoch 47/100\n",
            "15/15 [==============================] - 0s 4ms/step - loss: 0.1326 - accuracy: 0.9641 - val_loss: 0.1917 - val_accuracy: 0.9123\n",
            "Epoch 48/100\n",
            "15/15 [==============================] - 0s 4ms/step - loss: 0.1218 - accuracy: 0.9650 - val_loss: 0.1905 - val_accuracy: 0.9123\n",
            "Epoch 49/100\n",
            "15/15 [==============================] - 0s 4ms/step - loss: 0.1273 - accuracy: 0.9591 - val_loss: 0.1890 - val_accuracy: 0.9123\n",
            "Epoch 50/100\n",
            "15/15 [==============================] - 0s 4ms/step - loss: 0.1316 - accuracy: 0.9661 - val_loss: 0.1876 - val_accuracy: 0.9123\n",
            "Epoch 51/100\n",
            "15/15 [==============================] - 0s 4ms/step - loss: 0.1340 - accuracy: 0.9554 - val_loss: 0.1863 - val_accuracy: 0.9123\n",
            "Epoch 52/100\n",
            "15/15 [==============================] - 0s 4ms/step - loss: 0.1165 - accuracy: 0.9622 - val_loss: 0.1849 - val_accuracy: 0.9123\n",
            "Epoch 53/100\n",
            "15/15 [==============================] - 0s 5ms/step - loss: 0.1290 - accuracy: 0.9621 - val_loss: 0.1835 - val_accuracy: 0.9123\n",
            "Epoch 54/100\n",
            "15/15 [==============================] - 0s 4ms/step - loss: 0.1177 - accuracy: 0.9639 - val_loss: 0.1824 - val_accuracy: 0.9123\n",
            "Epoch 55/100\n",
            "15/15 [==============================] - 0s 5ms/step - loss: 0.1185 - accuracy: 0.9650 - val_loss: 0.1812 - val_accuracy: 0.9123\n",
            "Epoch 56/100\n",
            "15/15 [==============================] - 0s 5ms/step - loss: 0.1058 - accuracy: 0.9730 - val_loss: 0.1801 - val_accuracy: 0.9211\n",
            "Epoch 57/100\n",
            "15/15 [==============================] - 0s 4ms/step - loss: 0.1329 - accuracy: 0.9534 - val_loss: 0.1788 - val_accuracy: 0.9211\n",
            "Epoch 58/100\n",
            "15/15 [==============================] - 0s 4ms/step - loss: 0.1132 - accuracy: 0.9704 - val_loss: 0.1777 - val_accuracy: 0.9211\n",
            "Epoch 59/100\n",
            "15/15 [==============================] - 0s 5ms/step - loss: 0.1081 - accuracy: 0.9708 - val_loss: 0.1764 - val_accuracy: 0.9211\n",
            "Epoch 60/100\n",
            "15/15 [==============================] - 0s 5ms/step - loss: 0.1028 - accuracy: 0.9675 - val_loss: 0.1754 - val_accuracy: 0.9211\n",
            "Epoch 61/100\n",
            "15/15 [==============================] - 0s 4ms/step - loss: 0.1275 - accuracy: 0.9613 - val_loss: 0.1744 - val_accuracy: 0.9211\n",
            "Epoch 62/100\n",
            "15/15 [==============================] - 0s 4ms/step - loss: 0.1100 - accuracy: 0.9680 - val_loss: 0.1735 - val_accuracy: 0.9211\n",
            "Epoch 63/100\n",
            "15/15 [==============================] - 0s 16ms/step - loss: 0.1024 - accuracy: 0.9743 - val_loss: 0.1725 - val_accuracy: 0.9211\n",
            "Epoch 64/100\n",
            "15/15 [==============================] - 0s 4ms/step - loss: 0.1083 - accuracy: 0.9723 - val_loss: 0.1714 - val_accuracy: 0.9211\n",
            "Epoch 65/100\n",
            "15/15 [==============================] - 0s 4ms/step - loss: 0.1127 - accuracy: 0.9696 - val_loss: 0.1706 - val_accuracy: 0.9211\n",
            "Epoch 66/100\n",
            "15/15 [==============================] - 0s 4ms/step - loss: 0.1118 - accuracy: 0.9727 - val_loss: 0.1696 - val_accuracy: 0.9211\n",
            "Epoch 67/100\n",
            "15/15 [==============================] - 0s 4ms/step - loss: 0.1097 - accuracy: 0.9736 - val_loss: 0.1688 - val_accuracy: 0.9211\n",
            "Epoch 68/100\n",
            "15/15 [==============================] - 0s 4ms/step - loss: 0.1111 - accuracy: 0.9629 - val_loss: 0.1679 - val_accuracy: 0.9298\n",
            "Epoch 69/100\n",
            "15/15 [==============================] - 0s 5ms/step - loss: 0.1015 - accuracy: 0.9716 - val_loss: 0.1670 - val_accuracy: 0.9298\n",
            "Epoch 70/100\n",
            "15/15 [==============================] - 0s 4ms/step - loss: 0.0910 - accuracy: 0.9824 - val_loss: 0.1664 - val_accuracy: 0.9298\n",
            "Epoch 71/100\n",
            "15/15 [==============================] - 0s 5ms/step - loss: 0.0891 - accuracy: 0.9753 - val_loss: 0.1656 - val_accuracy: 0.9298\n",
            "Epoch 72/100\n",
            "15/15 [==============================] - 0s 4ms/step - loss: 0.0979 - accuracy: 0.9761 - val_loss: 0.1646 - val_accuracy: 0.9298\n",
            "Epoch 73/100\n",
            "15/15 [==============================] - 0s 5ms/step - loss: 0.1211 - accuracy: 0.9684 - val_loss: 0.1638 - val_accuracy: 0.9298\n",
            "Epoch 74/100\n",
            "15/15 [==============================] - 0s 4ms/step - loss: 0.0935 - accuracy: 0.9716 - val_loss: 0.1629 - val_accuracy: 0.9298\n",
            "Epoch 75/100\n",
            "15/15 [==============================] - 0s 4ms/step - loss: 0.0934 - accuracy: 0.9702 - val_loss: 0.1621 - val_accuracy: 0.9298\n",
            "Epoch 76/100\n",
            "15/15 [==============================] - 0s 4ms/step - loss: 0.0951 - accuracy: 0.9752 - val_loss: 0.1614 - val_accuracy: 0.9298\n",
            "Epoch 77/100\n",
            "15/15 [==============================] - 0s 4ms/step - loss: 0.1040 - accuracy: 0.9716 - val_loss: 0.1606 - val_accuracy: 0.9298\n",
            "Epoch 78/100\n",
            "15/15 [==============================] - 0s 4ms/step - loss: 0.0982 - accuracy: 0.9643 - val_loss: 0.1598 - val_accuracy: 0.9298\n",
            "Epoch 79/100\n",
            "15/15 [==============================] - 0s 4ms/step - loss: 0.1072 - accuracy: 0.9684 - val_loss: 0.1590 - val_accuracy: 0.9298\n",
            "Epoch 80/100\n",
            "15/15 [==============================] - 0s 5ms/step - loss: 0.0889 - accuracy: 0.9795 - val_loss: 0.1584 - val_accuracy: 0.9298\n",
            "Epoch 81/100\n",
            "15/15 [==============================] - 0s 4ms/step - loss: 0.0843 - accuracy: 0.9811 - val_loss: 0.1577 - val_accuracy: 0.9298\n",
            "Epoch 82/100\n",
            "15/15 [==============================] - 0s 4ms/step - loss: 0.1003 - accuracy: 0.9753 - val_loss: 0.1569 - val_accuracy: 0.9298\n",
            "Epoch 83/100\n",
            "15/15 [==============================] - 0s 4ms/step - loss: 0.1001 - accuracy: 0.9700 - val_loss: 0.1562 - val_accuracy: 0.9298\n",
            "Epoch 84/100\n",
            "15/15 [==============================] - 0s 4ms/step - loss: 0.0840 - accuracy: 0.9859 - val_loss: 0.1554 - val_accuracy: 0.9298\n",
            "Epoch 85/100\n",
            "15/15 [==============================] - 0s 4ms/step - loss: 0.0838 - accuracy: 0.9775 - val_loss: 0.1549 - val_accuracy: 0.9298\n",
            "Epoch 86/100\n",
            "15/15 [==============================] - 0s 5ms/step - loss: 0.0822 - accuracy: 0.9760 - val_loss: 0.1542 - val_accuracy: 0.9298\n",
            "Epoch 87/100\n",
            "15/15 [==============================] - 0s 4ms/step - loss: 0.1011 - accuracy: 0.9751 - val_loss: 0.1534 - val_accuracy: 0.9298\n",
            "Epoch 88/100\n",
            "15/15 [==============================] - 0s 4ms/step - loss: 0.1007 - accuracy: 0.9754 - val_loss: 0.1527 - val_accuracy: 0.9298\n",
            "Epoch 89/100\n",
            "15/15 [==============================] - 0s 4ms/step - loss: 0.0897 - accuracy: 0.9813 - val_loss: 0.1520 - val_accuracy: 0.9298\n",
            "Epoch 90/100\n",
            "15/15 [==============================] - 0s 4ms/step - loss: 0.0784 - accuracy: 0.9860 - val_loss: 0.1519 - val_accuracy: 0.9298\n",
            "Epoch 91/100\n",
            "15/15 [==============================] - 0s 4ms/step - loss: 0.0951 - accuracy: 0.9752 - val_loss: 0.1516 - val_accuracy: 0.9298\n",
            "Epoch 92/100\n",
            "15/15 [==============================] - 0s 4ms/step - loss: 0.0941 - accuracy: 0.9805 - val_loss: 0.1511 - val_accuracy: 0.9298\n",
            "Epoch 93/100\n",
            "15/15 [==============================] - 0s 5ms/step - loss: 0.0994 - accuracy: 0.9684 - val_loss: 0.1505 - val_accuracy: 0.9298\n",
            "Epoch 94/100\n",
            "15/15 [==============================] - 0s 4ms/step - loss: 0.1057 - accuracy: 0.9708 - val_loss: 0.1499 - val_accuracy: 0.9298\n",
            "Epoch 95/100\n",
            "15/15 [==============================] - 0s 4ms/step - loss: 0.0944 - accuracy: 0.9697 - val_loss: 0.1495 - val_accuracy: 0.9298\n",
            "Epoch 96/100\n",
            "15/15 [==============================] - 0s 4ms/step - loss: 0.0828 - accuracy: 0.9793 - val_loss: 0.1491 - val_accuracy: 0.9298\n",
            "Epoch 97/100\n",
            "15/15 [==============================] - 0s 4ms/step - loss: 0.0913 - accuracy: 0.9770 - val_loss: 0.1486 - val_accuracy: 0.9298\n",
            "Epoch 98/100\n",
            "15/15 [==============================] - 0s 4ms/step - loss: 0.0960 - accuracy: 0.9707 - val_loss: 0.1481 - val_accuracy: 0.9298\n",
            "Epoch 99/100\n",
            "15/15 [==============================] - 0s 4ms/step - loss: 0.0925 - accuracy: 0.9739 - val_loss: 0.1475 - val_accuracy: 0.9298\n",
            "Epoch 100/100\n",
            "15/15 [==============================] - 0s 4ms/step - loss: 0.0855 - accuracy: 0.9764 - val_loss: 0.1471 - val_accuracy: 0.9298\n"
          ],
          "name": "stdout"
        }
      ]
    },
    {
      "cell_type": "code",
      "metadata": {
        "colab": {
          "base_uri": "https://localhost:8080/",
          "height": 338
        },
        "id": "d9PVF5RqgdaL",
        "outputId": "06239516-1e71-4fe5-c2d6-ccf423bccd0a"
      },
      "source": [
        "plt.subplots(figsize = (10,5))\r\n",
        "plt.plot(result.history['loss'], label = 'loss')\r\n",
        "plt.plot(result.history['val_loss'], label = 'val_loss')\r\n",
        "plt.grid()\r\n",
        "plt.legend()"
      ],
      "execution_count": 16,
      "outputs": [
        {
          "output_type": "execute_result",
          "data": {
            "text/plain": [
              "<matplotlib.legend.Legend at 0x7fb22c377198>"
            ]
          },
          "metadata": {
            "tags": []
          },
          "execution_count": 16
        },
        {
          "output_type": "display_data",
          "data": {
            "image/png": "[encoded data removed]",
            "text/plain": [
              "<Figure size 720x360 with 1 Axes>"
            ]
          },
          "metadata": {
            "tags": [],
            "needs_background": "dark"
          }
        }
      ]
    },
    {
      "cell_type": "code",
      "metadata": {
        "id": "5bOIoaclitaW",
        "colab": {
          "base_uri": "https://localhost:8080/",
          "height": 339
        },
        "outputId": "6af68c90-9fe8-46cc-879b-20be19754dea"
      },
      "source": [
        "plt.subplots(figsize = (10,5))\r\n",
        "plt.plot(result.history['accuracy'], label = 'accuracy')\r\n",
        "plt.plot(result.history['val_accuracy'], label = 'val_accuracy')\r\n",
        "plt.grid()\r\n",
        "plt.legend()"
      ],
      "execution_count": 17,
      "outputs": [
        {
          "output_type": "execute_result",
          "data": {
            "text/plain": [
              "<matplotlib.legend.Legend at 0x7fb22bdfc208>"
            ]
          },
          "metadata": {
            "tags": []
          },
          "execution_count": 17
        },
        {
          "output_type": "display_data",
          "data": {
            "image/png": "[encoded data removed]",
            "text/plain": [
              "<Figure size 720x360 with 1 Axes>"
            ]
          },
          "metadata": {
            "tags": [],
            "needs_background": "dark"
          }
        }
      ]
    },
    {
      "cell_type": "code",
      "metadata": {
        "colab": {
          "base_uri": "https://localhost:8080/"
        },
        "id": "98MkB2IZheHL",
        "outputId": "3afc5d9c-17ee-4939-f3c3-fd6456d82eaf"
      },
      "source": [
        "# compare methods\r\n",
        "val_acc_k2 = np.round(k_means_accuracy, 2) \r\n",
        "val_acc_nn = np.round(result.history['val_accuracy'][-1], 2)\r\n",
        "\r\n",
        "print('accuracy with k-means clustering for k=2: ' + str(val_acc_k2 * 100) + '%')\r\n",
        "print('accuracy with linear regression on test set: ' + str(val_acc_nn * 100) + '%')"
      ],
      "execution_count": 19,
      "outputs": [
        {
          "output_type": "stream",
          "text": [
            "accuracy with k-means clustering for k=2: 89.0%\n",
            "accuracy with linear regression on test set: 93.0%\n"
          ],
          "name": "stdout"
        }
      ]
    }
  ]
}